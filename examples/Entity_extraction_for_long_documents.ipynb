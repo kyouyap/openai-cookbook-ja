{
 "cells": [
  {
   "cell_type": "markdown",
   "metadata": {},
   "source": [
    "# 長文コンテンツ抽出\n",
    "\n",
    "GPT-3は、コンテキストウィンドウに収まりきらない大きなドキュメントから主要な数字、日付、またはその他の重要なコンテンツを抽出するのに役立ちます。これを解決するための一つのアプローチは、ドキュメントをチャンクに分割し、各チャンクを個別に処理してから、回答のリストに結合することです。\n",
    "\n",
    "このノートブックでは、次のアプローチを実行します：\n",
    "- 長いPDFを読み込んでテキストを取得する\n",
    "- 重要な情報を抽出するために使用されるプロンプトを作成する\n",
    "- ドキュメントをチャンクに分割し、各チャンクを処理して回答を抽出する\n",
    "- 最後にそれらを結合する\n",
    "- このシンプルなアプローチは、より難しい質問に拡張されます\n",
    "\n",
    "## アプローチ\n",
    "\n",
    "- **セットアップ**: Formula 1 Financial RegulationドキュメントのPower Unitsに関するPDFを取得し、エンティティ抽出のためにそのテキストを抽出します。これを使用して、コンテンツに埋もれた回答を抽出しようとします。\n",
    "- **シンプルなエンティティ抽出**: ドキュメントのチャンクから重要な情報を抽出するために：\n",
    "    - 質問と期待されるフォーマットの例を含むテンプレートプロンプトを作成します。\n",
    "    - テキストのチャンクを入力として受け取り、プロンプトと組み合わせて応答を取得する関数を作成します。\n",
    "    - スクリプトを実行してテキストをチャンクに分割し、回答を抽出し、解析のためにそれらを出力します。\n",
    "- **複雑なエンティティ抽出**: より難解な質問をし、より困難な推論が必要な質問をします。"
   ]
  },
  {
   "cell_type": "markdown",
   "metadata": {},
   "source": [
    "## Setup"
   ]
  },
  {
   "cell_type": "code",
   "execution_count": null,
   "metadata": {},
   "outputs": [],
   "source": [
    "!pip install textract\n",
    "!pip install tiktoken"
   ]
  },
  {
   "cell_type": "code",
   "execution_count": 5,
   "metadata": {},
   "outputs": [],
   "source": [
    "import textract\n",
    "import os\n",
    "import openai\n",
    "import tiktoken\n",
    "\n",
    "# Extract the raw text from each PDF using textract\n",
    "text = textract.process('data/fia_f1_power_unit_financial_regulations_issue_1_-_2022-08-16.pdf', method='pdfminer').decode('utf-8')\n",
    "clean_text = text.replace(\"  \", \" \").replace(\"\\n\", \"; \").replace(';',' ')"
   ]
  },
  {
   "cell_type": "markdown",
   "metadata": {},
   "source": [
    "## Simple Entity Extraction"
   ]
  },
  {
   "cell_type": "code",
   "execution_count": 28,
   "metadata": {},
   "outputs": [
    {
     "name": "stdout",
     "output_type": "stream",
     "text": [
      "Extract key pieces of information from this regulation document.\n",
      "If a particular piece of information is not present, output \"Not specified\".\n",
      "When you extract a key piece of information, include the closest page number.\n",
      "Use the following format:\n",
      "0. Who is the author\n",
      "1. What is the amount of the \"Power Unit Cost Cap\" in USD, GBP and EUR\n",
      "2. What is the value of External Manufacturing Costs in USD\n",
      "3. What is the Capital Expenditure Limit in USD\n",
      "\n",
      "Document: \"\"\"<document>\"\"\"\n",
      "\n",
      "0. Who is the author: Tom Anderson (Page 1)\n",
      "1.\n"
     ]
    }
   ],
   "source": [
    "# Example prompt - \n",
    "document = '<document>'\n",
    "template_prompt=f'''Extract key pieces of information from this regulation document.\n",
    "If a particular piece of information is not present, output \\\"Not specified\\\".\n",
    "When you extract a key piece of information, include the closest page number.\n",
    "Use the following format:\\n0. Who is the author\\n1. What is the amount of the \"Power Unit Cost Cap\" in USD, GBP and EUR\\n2. What is the value of External Manufacturing Costs in USD\\n3. What is the Capital Expenditure Limit in USD\\n\\nDocument: \\\"\\\"\\\"{document}\\\"\\\"\\\"\\n\\n0. Who is the author: Tom Anderson (Page 1)\\n1.'''\n",
    "print(template_prompt)\n",
    "# document = '<document>'\n",
    "# template_prompt = f'''この規制文書から重要な情報を抽出してください。\n",
    "# 特定の情報が存在しない場合、\"指定されていない\"と出力してください。\n",
    "# 重要な情報を抽出する際には、最も近いページ番号を含めてください。\n",
    "# 以下のフォーマットを使用してください：\n",
    "# 0. 著者は誰ですか？\n",
    "# 1. \"Power Unit Cost Cap\"の金額はUSD、GBP、EURでいくらですか？\n",
    "# 2. 外部製造コストの金額はUSDでいくらですか？\n",
    "# 3. 資本支出制限はUSDでいくらですか？\n",
    "\n",
    "# 文書: \\\"\\\"\\\"{document}\\\"\\\"\\\"\n",
    "\n",
    "# 0. 著者は誰ですか？：トム・アンダーソン（ページ1）\n",
    "# 1. \"Power Unit Cost Cap\"の金額はUSD、GBP、EURでいくらですか？：（ページ番号）\n",
    "# 2. 外部製造コストの金額はUSDでいくらですか？：（ページ番号）\n",
    "# 3. 資本支出制限はUSDでいくらですか？：（ページ番号）\n",
    "# '''\n",
    "# print(template_prompt)\n"
   ]
  },
  {
   "cell_type": "code",
   "execution_count": 29,
   "metadata": {},
   "outputs": [],
   "source": [
    "# テキストをサイズnの小さなチャンクに分割し、可能であれば文の終わりで終了することをお勧めします。\n",
    "def create_chunks(text, n, tokenizer):\n",
    "    tokens = tokenizer.encode(text)\n",
    "    \"\"\"テキストから連続するnサイズのチャンクを生成します。\"\"\"\n",
    "    i = 0\n",
    "    while i < len(tokens):\n",
    "        # 範囲0.5 * nから1.5 * nトークン内で最寄りの文末を見つけます。\n",
    "        j = min(i + int(1.5 * n), len(tokens))\n",
    "        while j > i + int(0.5 * n):\n",
    "            # トークンをデコードし、句点または改行をチェックします。\n",
    "            chunk = tokenizer.decode(tokens[i:j])\n",
    "            if chunk.endswith(\"。\") or chunk.endswith(\"\\n\"):\n",
    "                break\n",
    "            j -= 1\n",
    "        # 文末が見つからない場合、チャンクサイズとしてnトークンを使用します。\n",
    "        if j == i + int(0.5 * n):\n",
    "            j = min(i + n, len(tokens))\n",
    "        yield tokens[i:j]\n",
    "        i = j\n",
    "\n",
    "def extract_chunk(document,template_prompt):\n",
    "    \n",
    "    prompt=template_prompt.replace('<document>',document)\n",
    "\n",
    "    response = openai.Completion.create(\n",
    "    model='text-davinci-003', \n",
    "    prompt=prompt,\n",
    "    temperature=0,\n",
    "    max_tokens=1500,\n",
    "    top_p=1,\n",
    "    frequency_penalty=0,\n",
    "    presence_penalty=0\n",
    "    )\n",
    "    return \"1.\" + response['choices'][0]['text']\n"
   ]
  },
  {
   "cell_type": "code",
   "execution_count": null,
   "metadata": {},
   "outputs": [],
   "source": [
    "# Initialise tokenizer\n",
    "tokenizer = tiktoken.get_encoding(\"cl100k_base\")\n",
    "\n",
    "results = []\n",
    "    \n",
    "chunks = create_chunks(clean_text,1000,tokenizer)\n",
    "text_chunks = [tokenizer.decode(chunk) for chunk in chunks]\n",
    "\n",
    "for chunk in text_chunks:\n",
    "    results.append(extract_chunk(chunk,template_prompt))\n",
    "    #print(chunk)\n",
    "    print(results[-1])\n"
   ]
  },
  {
   "cell_type": "code",
   "execution_count": 31,
   "metadata": {
    "scrolled": true
   },
   "outputs": [
    {
     "data": {
      "text/plain": [
       "['1. What is the amount of the \"Power Unit Cost Cap\" in USD, GBP and EUR: USD 95,000,000 (Page 2); GBP 76,459,000 (Page 2); EUR 90,210,000 (Page 2)',\n",
       " '2. What is the value of External Manufacturing Costs in USD: US Dollars 20,000,000 in respect of each of the Full Year Reporting Periods ending on 31 December 2023, 31 December 2024 and 31 December 2025, adjusted for Indexation (Page 10)',\n",
       " '3. What is the Capital Expenditure Limit in USD: US Dollars 30,000,000 (Page 32)']"
      ]
     },
     "execution_count": 31,
     "metadata": {},
     "output_type": "execute_result"
    }
   ],
   "source": [
    "groups = [r.split('\\n') for r in results]\n",
    "\n",
    "# zip the groups together\n",
    "zipped = list(zip(*groups))\n",
    "zipped = [x for y in zipped for x in y if \"Not specified\" not in x and \"__\" not in x]\n",
    "zipped"
   ]
  },
  {
   "cell_type": "markdown",
   "metadata": {},
   "source": [
    "## Complex Entity Extraction"
   ]
  },
  {
   "cell_type": "code",
   "execution_count": 32,
   "metadata": {},
   "outputs": [
    {
     "name": "stdout",
     "output_type": "stream",
     "text": [
      "Extract key pieces of information from this regulation document.\n",
      "If a particular piece of information is not present, output \"Not specified\".\n",
      "When you extract a key piece of information, include the closest page number.\n",
      "Use the following format:\n",
      "0. Who is the author\n",
      "1. How is a Minor Overspend Breach calculated\n",
      "2. How is a Major Overspend Breach calculated\n",
      "3. Which years do these financial regulations apply to\n",
      "\n",
      "Document: \"\"\"<document>\"\"\"\n",
      "\n",
      "0. Who is the author: Tom Anderson (Page 1)\n",
      "1.\n"
     ]
    }
   ],
   "source": [
    "# Example prompt - \n",
    "template_prompt=f'''Extract key pieces of information from this regulation document.\n",
    "If a particular piece of information is not present, output \\\"Not specified\\\".\n",
    "When you extract a key piece of information, include the closest page number.\n",
    "Use the following format:\\n0. Who is the author\\n1. How is a Minor Overspend Breach calculated\\n2. How is a Major Overspend Breach calculated\\n3. Which years do these financial regulations apply to\\n\\nDocument: \\\"\\\"\\\"{document}\\\"\\\"\\\"\\n\\n0. Who is the author: Tom Anderson (Page 1)\\n1.'''\n",
    "print(template_prompt)\n",
    "\n",
    "# template_prompt = f'''この規制文書から重要な情報を抽出してください。\n",
    "# 特定の情報が存在しない場合は、「指定されていない」と出力してください。\n",
    "# 重要な情報を抽出する際に、最も近いページ番号を含めてください。\n",
    "# 以下のフォーマットを使用してください：\n",
    "# 0. 著者は誰ですか？\n",
    "# 1. 小規模な超過違反はどのように計算されますか？\n",
    "# 2. 大規模な超過違反はどのように計算されますか？\n",
    "# 3. これらの財務規制はどの年度に適用されますか？\n",
    "\n",
    "# 文書: \\\"\\\"\\\"{document}\\\"\\\"\\\"\n",
    "\n",
    "# 0. 著者: トム・アンダーソン（ページ1）\n",
    "# 1. ...\n",
    "# '''\n",
    "# print(template_prompt)\n"
   ]
  },
  {
   "cell_type": "code",
   "execution_count": 34,
   "metadata": {},
   "outputs": [
    {
     "data": {
      "text/plain": [
       "['1. How is a Minor Overspend Breach calculated: A Minor Overspend Breach arises when a Power Unit Manufacturer submits its Full Year Reporting Documentation and Relevant Costs reported therein exceed the Power Unit Cost Cap by less than 5% (Page 24)',\n",
       " '2. How is a Major Overspend Breach calculated: A Material Overspend Breach arises when a Power Unit Manufacturer submits its Full Year Reporting Documentation and Relevant Costs reported therein exceed the Power Unit Cost Cap by 5% or more (Page 25)',\n",
       " '3. Which years do these financial regulations apply to: 2026 onwards (Page 1)',\n",
       " '3. Which years do these financial regulations apply to: 2023, 2024, 2025, 2026 and subsequent Full Year Reporting Periods (Page 2)',\n",
       " '3. Which years do these financial regulations apply to: 2022-2025 (Page 6)',\n",
       " '3. Which years do these financial regulations apply to: 2023, 2024, 2025, 2026 and subsequent Full Year Reporting Periods (Page 10)',\n",
       " '3. Which years do these financial regulations apply to: 2022 (Page 14)',\n",
       " '3. Which years do these financial regulations apply to: 2022 (Page 16)',\n",
       " '3. Which years do these financial regulations apply to: 2022 (Page 19)',\n",
       " '3. Which years do these financial regulations apply to: 2022 (Page 21)',\n",
       " '3. Which years do these financial regulations apply to: 2026 onwards (Page 26)',\n",
       " '3. Which years do these financial regulations apply to: 2026 (Page 2)',\n",
       " '3. Which years do these financial regulations apply to: 2022 (Page 30)',\n",
       " '3. Which years do these financial regulations apply to: 2022 (Page 32)',\n",
       " '3. Which years do these financial regulations apply to: 2023, 2024 and 2025 (Page 1)',\n",
       " '3. Which years do these financial regulations apply to: 2022 (Page 37)',\n",
       " '3. Which years do these financial regulations apply to: 2026 onwards (Page 40)',\n",
       " '3. Which years do these financial regulations apply to: 2022 (Page 1)',\n",
       " '3. Which years do these financial regulations apply to: 2026 to 2030 seasons (Page 46)',\n",
       " '3. Which years do these financial regulations apply to: 2022 (Page 47)',\n",
       " '3. Which years do these financial regulations apply to: 2022 (Page 1)',\n",
       " '3. Which years do these financial regulations apply to: 2022 (Page 1)',\n",
       " '3. Which years do these financial regulations apply to: 2022 (Page 56)',\n",
       " '3. Which years do these financial regulations apply to: 2022 (Page 1)',\n",
       " '3. Which years do these financial regulations apply to: 2022 (Page 16)',\n",
       " '3. Which years do these financial regulations apply to: 2022 (Page 16)']"
      ]
     },
     "execution_count": 34,
     "metadata": {},
     "output_type": "execute_result"
    }
   ],
   "source": [
    "results = []\n",
    "\n",
    "for chunk in text_chunks:\n",
    "    results.append(extract_chunk(chunk,template_prompt))\n",
    "    \n",
    "groups = [r.split('\\n') for r in results]\n",
    "\n",
    "# zip the groups together\n",
    "zipped = list(zip(*groups))\n",
    "zipped = [x for y in zipped for x in y if \"Not specified\" not in x and \"__\" not in x]\n",
    "zipped"
   ]
  },
  {
   "cell_type": "markdown",
   "metadata": {},
   "source": [
    "## 統合\n",
    "\n",
    "私たちは最初の2つの回答を安全に抽出することができましたが、3つ目の回答は各ページに表示されていた日付に混乱しました。ただし、正しい回答も含まれています。\n",
    "\n",
    "さらに調整するために、以下の実験を考えてみることができます：\n",
    "- より具体的または特定のプロンプト\n",
    "- 十分なトレーニングデータがある場合、非常に良い出力のセットを見つけるためにモデルを微調整\n",
    "- データをチャンクに分割する方法 - 私たちは1000トークンでオーバーラップなしでチャンクを作成しましたが、情報をセクションに分割したり、トークンでカットしたりするより賢いチャンキングがより良い結果を得るかもしれません。\n",
    "\n",
    "しかし、最小限の調整で、長いドキュメントの内容を使用して難易度の異なる6つの質問に答えることができ、エンティティの抽出を必要とする任意の長いドキュメントに適用できる再利用可能なアプローチを持っています。これをどのように活用できるか楽しみにしています！"
   ]
  }
 ],
 "metadata": {
  "kernelspec": {
   "display_name": "embed_retrieve",
   "language": "python",
   "name": "embed_retrieve"
  },
  "language_info": {
   "codemirror_mode": {
    "name": "ipython",
    "version": 3
   },
   "file_extension": ".py",
   "mimetype": "text/x-python",
   "name": "python",
   "nbconvert_exporter": "python",
   "pygments_lexer": "ipython3",
   "version": "3.10.9"
  },
  "vscode": {
   "interpreter": {
    "hash": "5997d090960a54cd76552f75eca12ec3b416cf9d01a1a5af08ae48cf90878791"
   }
  }
 },
 "nbformat": 4,
 "nbformat_minor": 2
}
