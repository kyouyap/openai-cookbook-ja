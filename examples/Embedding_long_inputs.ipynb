{
 "cells": [
  {
   "attachments": {},
   "cell_type": "markdown",
   "metadata": {},
   "source": [
    "# モデルの最大コンテキスト長を超えるテキストの埋め込み\n",
    "\n",
    "OpenAIの埋め込みモデルは、最大長を超えるテキストを埋め込むことができません。最大長はモデルごとに異なり、トークン（token）単位で測定されます。トークン化に馴染みがない場合は、「トークンのカウント方法：tiktokenを使用する方法」をチェックしてみてください。\n",
    "\n",
    "このノートブックでは、モデルの最大コンテキスト長を超えるテキストの扱い方を示します。埋め込みには`text-embedding-ada-002`の埋め込みを使用しますが、同じアイデアは他のモデルやタスクにも適用できます。埋め込みについて詳しく知りたい場合は、「OpenAI埋め込みガイド」を参照してください（https://beta.openai.com/docs/guides/embeddings）。\n"
   ]
  },
  {
   "attachments": {},
   "cell_type": "markdown",
   "metadata": {},
   "source": [
    "## 1. モデルのコンテキスト長\n",
    "\n",
    "最初に、モデルを選択し、APIから埋め込みを取得するための関数を定義します。"
   ]
  },
  {
   "cell_type": "code",
   "execution_count": 2,
   "metadata": {},
   "outputs": [],
   "source": [
    "import openai\n",
    "from tenacity import retry, wait_random_exponential, stop_after_attempt, retry_if_not_exception_type\n",
    "\n",
    "# 埋め込みモデルの設定\n",
    "EMBEDDING_MODEL = 'text-embedding-ada-002'\n",
    "EMBEDDING_CTX_LENGTH = 8191\n",
    "EMBEDDING_ENCODING = 'cl100k_base'\n",
    "\n",
    "# 無効なリクエストについてはリトライしないように設定します。これをデモンストレーションしたいからです。\n",
    "@retry(wait=wait_random_exponential(min=1, max=20), stop=stop_after_attempt(6), retry=retry_if_not_exception_type(openai.InvalidRequestError))\n",
    "def get_embedding(text_or_tokens, model=EMBEDDING_MODEL):\n",
    "    return openai.Embedding.create(input=text_or_tokens, model=model)[\"data\"][0][\"embedding\"]\n"
   ]
  },
  {
   "cell_type": "markdown",
   "metadata": {},
   "source": [
    "`text-embedding-ada-002` モデルは、`cl100k_base` エンコーディングを使用し、コンテキスト長が 8191 トークンです。この制限を超えるとエラーが発生することがわかります。"
   ]
  },
  {
   "cell_type": "code",
   "execution_count": 5,
   "metadata": {},
   "outputs": [
    {
     "name": "stdout",
     "output_type": "stream",
     "text": [
      "This model's maximum context length is 8191 tokens, however you requested 10001 tokens (10001 in your prompt; 0 for the completion). Please reduce your prompt; or completion length.\n"
     ]
    }
   ],
   "source": [
    "long_text = 'AGI ' * 5000\n",
    "try:\n",
    "    get_embedding(long_text)\n",
    "except openai.InvalidRequestError as e:\n",
    "    print(e)"
   ]
  },
  {
   "attachments": {},
   "cell_type": "markdown",
   "metadata": {},
   "source": [
    "もちろん、特に大量の埋め込みをプログラムで処理する際に、これらのエラーを避けたいと思います。しかし、最大コンテキスト長よりも長いテキストに直面することがあるかもしれません。以下では、これらの長いテキストを処理するための主要なアプローチについて説明し、レシピを提供します：(1) テキストを最大許容長に単純に切り詰める方法、および(2) テキストをチャンクに分割し、各チャンクを個別に埋め込む方法。"
   ]
  },
  {
   "attachments": {},
   "cell_type": "markdown",
   "metadata": {},
   "source": [
    "## 1. 入力テキストの切り詰め\n",
    "\n",
    "最もシンプルな解決策は、入力テキストを最大許容長に切り詰めることです。コンテキストの長さはトークンで測定されるため、まずテキストをトークン化する必要があります。APIはテキストまたはトークンの形式の入力を受け入れるため、適切なエンコーディングを使用していることに注意すれば、トークンを文字列形式に変換する必要はありません。以下はそのような切り詰め関数の例です。\n"
   ]
  },
  {
   "cell_type": "code",
   "execution_count": 6,
   "metadata": {},
   "outputs": [],
   "source": [
    "import tiktoken\n",
    "\n",
    "def truncate_text_tokens(text, encoding_name=EMBEDDING_ENCODING, max_tokens=EMBEDDING_CTX_LENGTH):\n",
    "    \"\"\"指定されたエンコーディングに従って、文字列を最大トークン数 `max_tokens` に切り詰めます。\"\"\"\n",
    "    encoding = tiktoken.get_encoding(encoding_name)\n",
    "    return encoding.encode(text)[:max_tokens]\n"
   ]
  },
  {
   "attachments": {},
   "cell_type": "markdown",
   "metadata": {},
   "source": [
    "以前の例は、今ではエラーなしで動作します。"
   ]
  },
  {
   "cell_type": "code",
   "execution_count": 7,
   "metadata": {},
   "outputs": [
    {
     "data": {
      "text/plain": [
       "1536"
      ]
     },
     "execution_count": 7,
     "metadata": {},
     "output_type": "execute_result"
    }
   ],
   "source": [
    "truncated = truncate_text_tokens(long_text)\n",
    "len(get_embedding(truncated))"
   ]
  },
  {
   "attachments": {},
   "cell_type": "markdown",
   "metadata": {},
   "source": [
    "## 2. テキストのチャンキング\n",
    "\n",
    "切り詰める方法は機能しますが、潜在的に関連するテキストを破棄することは明らかな欠点です。別のアプローチは、入力テキストをチャンクに分割し、それぞれのチャンクを個別に埋め込むことです。その後、チャンク埋め込みを個別に使用するか、各チャンクのサイズによって重み付けされた平均など、いくつかの方法でそれらを組み合わせることができます。\n",
    "\n",
    "Pythonの公式クックブックから、シーケンスをチャンクに分割する関数を使います。[Python公式クックブック](https://docs.python.org/3/library/itertools.html#itertools-recipes)から関数を取得します。"
   ]
  },
  {
   "cell_type": "code",
   "execution_count": 8,
   "metadata": {},
   "outputs": [],
   "source": [
    "from itertools import islice\n",
    "\n",
    "def batched(iterable, n):\n",
    "    \"\"\"データを長さnのタプルにバッチ処理します。最後のバッチは短くなることがあります。\"\"\"\n",
    "    # batched('ABCDEFG', 3) --> ABC DEF G\n",
    "    if n < 1:\n",
    "        raise ValueError('nは少なくとも1以上である必要があります')\n",
    "    it = iter(iterable)\n",
    "    while (batch := tuple(islice(it, n))):\n",
    "        yield batch\n"
   ]
  },
  {
   "attachments": {},
   "cell_type": "markdown",
   "metadata": {},
   "source": [
    "文字列をトークンにエンコードし、それをチャンクに分割する関数を定義します。"
   ]
  },
  {
   "cell_type": "code",
   "execution_count": 9,
   "metadata": {},
   "outputs": [],
   "source": [
    "def chunked_tokens(text, encoding_name, chunk_length):\n",
    "    encoding = tiktoken.get_encoding(encoding_name)\n",
    "    tokens = encoding.encode(text)\n",
    "    chunks_iterator = batched(tokens, chunk_length)\n",
    "    yield from chunks_iterator"
   ]
  },
  {
   "cell_type": "markdown",
   "metadata": {},
   "source": [
    "最終的に、入力テキストが最大コンテキスト長を超える場合でも安全に埋め込みリクエストを処理できる関数を書くことができます。この関数では、入力トークンをチャンクに分割し、各チャンクを個別に埋め込みます。`average` フラグを `True` に設定すると、チャンク埋め込みの加重平均が返されます。`False` に設定すると、修正されていないチャンク埋め込みのリストがそのまま返されます。"
   ]
  },
  {
   "cell_type": "code",
   "execution_count": 10,
   "metadata": {},
   "outputs": [],
   "source": [
    "import numpy as np\n",
    "\n",
    "\n",
    "def len_safe_get_embedding(text, model=EMBEDDING_MODEL, max_tokens=EMBEDDING_CTX_LENGTH, encoding_name=EMBEDDING_ENCODING, average=True):\n",
    "    chunk_embeddings = []\n",
    "    chunk_lens = []\n",
    "    for chunk in chunked_tokens(text, encoding_name=encoding_name, chunk_length=max_tokens):\n",
    "        chunk_embeddings.append(get_embedding(chunk, model=model))\n",
    "        chunk_lens.append(len(chunk))\n",
    "\n",
    "    if average:\n",
    "        chunk_embeddings = np.average(chunk_embeddings, axis=0, weights=chunk_lens)\n",
    "        chunk_embeddings = chunk_embeddings / np.linalg.norm(chunk_embeddings)  # normalizes length to 1\n",
    "        chunk_embeddings = chunk_embeddings.tolist()\n",
    "    return chunk_embeddings"
   ]
  },
  {
   "attachments": {},
   "cell_type": "markdown",
   "metadata": {},
   "source": [
    "再度、長い入力テキストを処理できるようになりました。"
   ]
  },
  {
   "cell_type": "code",
   "execution_count": 11,
   "metadata": {},
   "outputs": [
    {
     "name": "stdout",
     "output_type": "stream",
     "text": [
      "average=Trueを設定すると、長いテキストに対して1つの1536次元の埋め込みベクトルが得られます。\n",
      "average=Falseを設定すると、2個の埋め込みベクトルが生成され、各チャンクに対応します。\n"
     ]
    }
   ],
   "source": [
    "# average=Trueを設定すると、長いテキストに対して1つの平均埋め込みベクトルが得られます。\n",
    "# このベクトルは、{len(average_embedding_vector)}次元のものです。\n",
    "average_embedding_vector = len_safe_get_embedding(long_text, average=True)\n",
    "\n",
    "# average=Falseを設定すると、各チャンクごとに1つの埋め込みベクトルが得られます。\n",
    "# これにより、{len(chunks_embedding_vectors)}個の埋め込みベクトルが生成されます。\n",
    "chunks_embedding_vectors = len_safe_get_embedding(long_text, average=False)\n",
    "\n",
    "print(f\"average=Trueを設定すると、長いテキストに対して1つの{len(average_embedding_vector)}次元の埋め込みベクトルが得られます。\")\n",
    "print(f\"average=Falseを設定すると、{len(chunks_embedding_vectors)}個の埋め込みベクトルが生成され、各チャンクに対応します。\")\n"
   ]
  },
  {
   "attachments": {},
   "cell_type": "markdown",
   "metadata": {},
   "source": [
    "時折、テキストの意味を保持するのに役立つ場合があるため、段落の境界または文の境界でチャンクを分割することは意味があるかもしれません。"
   ]
  },
  {
   "cell_type": "markdown",
   "metadata": {},
   "source": []
  }
 ],
 "metadata": {
  "kernelspec": {
   "display_name": "Python 3 (ipykernel)",
   "language": "python",
   "name": "python3"
  },
  "language_info": {
   "codemirror_mode": {
    "name": "ipython",
    "version": 3
   },
   "file_extension": ".py",
   "mimetype": "text/x-python",
   "name": "python",
   "nbconvert_exporter": "python",
   "pygments_lexer": "ipython3",
   "version": "3.9.6"
  },
  "vscode": {
   "interpreter": {
    "hash": "365536dcbde60510dc9073d6b991cd35db2d9bac356a11f5b64279a5e6708b97"
   }
  }
 },
 "nbformat": 4,
 "nbformat_minor": 2
}
